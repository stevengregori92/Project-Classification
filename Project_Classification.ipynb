{
  "cells": [
    {
      "cell_type": "markdown",
      "metadata": {
        "id": "view-in-github",
        "colab_type": "text"
      },
      "source": [
        "<a href=\"https://colab.research.google.com/github/stevengregori92/Project-Classification/blob/main/Project_Classification.ipynb\" target=\"_parent\"><img src=\"https://colab.research.google.com/assets/colab-badge.svg\" alt=\"Open In Colab\"/></a>"
      ]
    },
    {
      "cell_type": "markdown",
      "id": "39c877c9",
      "metadata": {
        "id": "39c877c9"
      },
      "source": [
        "# Project - Classification with Hidden Features"
      ]
    },
    {
      "cell_type": "markdown",
      "id": "26869a35",
      "metadata": {
        "id": "26869a35"
      },
      "source": [
        "![Data Science Workflow](img/ds-workflow.png)"
      ]
    },
    {
      "cell_type": "markdown",
      "id": "c1e801b2",
      "metadata": {
        "id": "c1e801b2"
      },
      "source": [
        "## Goal of Project\n",
        "- You are hired by a company\n",
        "- They classfied a dataset\n",
        "- The features are hidden (you do not know what they are)\n",
        "- They ask you to create a model to predict classes\n",
        "- How accurate can you predict the classes\n",
        "- Are some features more important than others"
      ]
    },
    {
      "cell_type": "markdown",
      "id": "77f362c4",
      "metadata": {
        "id": "77f362c4"
      },
      "source": [
        "## Step 1: Acquire\n",
        "- Explore problem\n",
        "- Identify data\n",
        "- Import data"
      ]
    },
    {
      "cell_type": "markdown",
      "id": "6f8cbbcb",
      "metadata": {
        "id": "6f8cbbcb"
      },
      "source": [
        "### Step 1.a: Import libraries\n",
        "- Execute the cell below (SHIFT + ENTER)"
      ]
    },
    {
      "cell_type": "code",
      "execution_count": null,
      "id": "259172bd",
      "metadata": {
        "id": "259172bd"
      },
      "outputs": [],
      "source": [
        "import numpy as np\n",
        "import pandas as pd\n",
        "from sklearn.model_selection import train_test_split\n",
        "from sklearn.svm import SVC\n",
        "from sklearn.metrics import accuracy_score\n",
        "from sklearn.neighbors import KNeighborsClassifier\n",
        "from sklearn.inspection import permutation_importance"
      ]
    },
    {
      "cell_type": "markdown",
      "id": "b5f9a799",
      "metadata": {
        "id": "b5f9a799"
      },
      "source": [
        "### Step 1.b: Read the data\n",
        "- Use ```pd.read_csv()``` to read the file `files/classified_data.csv`\n",
        "- NOTE: Remember to assign the result to a variable (e.g., ```data```)\n",
        "- Apply ```.head()``` on the data to see all is as expected"
      ]
    },
    {
      "cell_type": "code",
      "execution_count": null,
      "id": "186da91e",
      "metadata": {
        "id": "186da91e",
        "colab": {
          "base_uri": "https://localhost:8080/",
          "height": 206
        },
        "outputId": "5b56a2eb-bf52-4246-f90d-6a0735037ea8"
      },
      "outputs": [
        {
          "output_type": "execute_result",
          "data": {
            "text/plain": [
              "        WTT       PTI       EQW       SBI       LQE       QWG       FDJ  \\\n",
              "0  0.913917  1.162073  0.567946  0.755464  0.780862  0.352608  0.759697   \n",
              "1  0.635632  1.003722  0.535342  0.825645  0.924109  0.648450  0.675334   \n",
              "2  0.721360  1.201493  0.921990  0.855595  1.526629  0.720781  1.626351   \n",
              "3  1.234204  1.386726  0.653046  0.825624  1.142504  0.875128  1.409708   \n",
              "4  1.279491  0.949750  0.627280  0.668976  1.232537  0.703727  1.115596   \n",
              "\n",
              "        PJF       HQE       NXJ  TARGET CLASS  \n",
              "0  0.643798  0.879422  1.231409             1  \n",
              "1  1.013546  0.621552  1.492702             0  \n",
              "2  1.154483  0.957877  1.285597             0  \n",
              "3  1.380003  1.522692  1.153093             1  \n",
              "4  0.646691  1.463812  1.419167             1  "
            ],
            "text/html": [
              "\n",
              "  <div id=\"df-31b05134-4b02-4a41-9528-07d9e81049e1\">\n",
              "    <div class=\"colab-df-container\">\n",
              "      <div>\n",
              "<style scoped>\n",
              "    .dataframe tbody tr th:only-of-type {\n",
              "        vertical-align: middle;\n",
              "    }\n",
              "\n",
              "    .dataframe tbody tr th {\n",
              "        vertical-align: top;\n",
              "    }\n",
              "\n",
              "    .dataframe thead th {\n",
              "        text-align: right;\n",
              "    }\n",
              "</style>\n",
              "<table border=\"1\" class=\"dataframe\">\n",
              "  <thead>\n",
              "    <tr style=\"text-align: right;\">\n",
              "      <th></th>\n",
              "      <th>WTT</th>\n",
              "      <th>PTI</th>\n",
              "      <th>EQW</th>\n",
              "      <th>SBI</th>\n",
              "      <th>LQE</th>\n",
              "      <th>QWG</th>\n",
              "      <th>FDJ</th>\n",
              "      <th>PJF</th>\n",
              "      <th>HQE</th>\n",
              "      <th>NXJ</th>\n",
              "      <th>TARGET CLASS</th>\n",
              "    </tr>\n",
              "  </thead>\n",
              "  <tbody>\n",
              "    <tr>\n",
              "      <th>0</th>\n",
              "      <td>0.913917</td>\n",
              "      <td>1.162073</td>\n",
              "      <td>0.567946</td>\n",
              "      <td>0.755464</td>\n",
              "      <td>0.780862</td>\n",
              "      <td>0.352608</td>\n",
              "      <td>0.759697</td>\n",
              "      <td>0.643798</td>\n",
              "      <td>0.879422</td>\n",
              "      <td>1.231409</td>\n",
              "      <td>1</td>\n",
              "    </tr>\n",
              "    <tr>\n",
              "      <th>1</th>\n",
              "      <td>0.635632</td>\n",
              "      <td>1.003722</td>\n",
              "      <td>0.535342</td>\n",
              "      <td>0.825645</td>\n",
              "      <td>0.924109</td>\n",
              "      <td>0.648450</td>\n",
              "      <td>0.675334</td>\n",
              "      <td>1.013546</td>\n",
              "      <td>0.621552</td>\n",
              "      <td>1.492702</td>\n",
              "      <td>0</td>\n",
              "    </tr>\n",
              "    <tr>\n",
              "      <th>2</th>\n",
              "      <td>0.721360</td>\n",
              "      <td>1.201493</td>\n",
              "      <td>0.921990</td>\n",
              "      <td>0.855595</td>\n",
              "      <td>1.526629</td>\n",
              "      <td>0.720781</td>\n",
              "      <td>1.626351</td>\n",
              "      <td>1.154483</td>\n",
              "      <td>0.957877</td>\n",
              "      <td>1.285597</td>\n",
              "      <td>0</td>\n",
              "    </tr>\n",
              "    <tr>\n",
              "      <th>3</th>\n",
              "      <td>1.234204</td>\n",
              "      <td>1.386726</td>\n",
              "      <td>0.653046</td>\n",
              "      <td>0.825624</td>\n",
              "      <td>1.142504</td>\n",
              "      <td>0.875128</td>\n",
              "      <td>1.409708</td>\n",
              "      <td>1.380003</td>\n",
              "      <td>1.522692</td>\n",
              "      <td>1.153093</td>\n",
              "      <td>1</td>\n",
              "    </tr>\n",
              "    <tr>\n",
              "      <th>4</th>\n",
              "      <td>1.279491</td>\n",
              "      <td>0.949750</td>\n",
              "      <td>0.627280</td>\n",
              "      <td>0.668976</td>\n",
              "      <td>1.232537</td>\n",
              "      <td>0.703727</td>\n",
              "      <td>1.115596</td>\n",
              "      <td>0.646691</td>\n",
              "      <td>1.463812</td>\n",
              "      <td>1.419167</td>\n",
              "      <td>1</td>\n",
              "    </tr>\n",
              "  </tbody>\n",
              "</table>\n",
              "</div>\n",
              "      <button class=\"colab-df-convert\" onclick=\"convertToInteractive('df-31b05134-4b02-4a41-9528-07d9e81049e1')\"\n",
              "              title=\"Convert this dataframe to an interactive table.\"\n",
              "              style=\"display:none;\">\n",
              "        \n",
              "  <svg xmlns=\"http://www.w3.org/2000/svg\" height=\"24px\"viewBox=\"0 0 24 24\"\n",
              "       width=\"24px\">\n",
              "    <path d=\"M0 0h24v24H0V0z\" fill=\"none\"/>\n",
              "    <path d=\"M18.56 5.44l.94 2.06.94-2.06 2.06-.94-2.06-.94-.94-2.06-.94 2.06-2.06.94zm-11 1L8.5 8.5l.94-2.06 2.06-.94-2.06-.94L8.5 2.5l-.94 2.06-2.06.94zm10 10l.94 2.06.94-2.06 2.06-.94-2.06-.94-.94-2.06-.94 2.06-2.06.94z\"/><path d=\"M17.41 7.96l-1.37-1.37c-.4-.4-.92-.59-1.43-.59-.52 0-1.04.2-1.43.59L10.3 9.45l-7.72 7.72c-.78.78-.78 2.05 0 2.83L4 21.41c.39.39.9.59 1.41.59.51 0 1.02-.2 1.41-.59l7.78-7.78 2.81-2.81c.8-.78.8-2.07 0-2.86zM5.41 20L4 18.59l7.72-7.72 1.47 1.35L5.41 20z\"/>\n",
              "  </svg>\n",
              "      </button>\n",
              "      \n",
              "  <style>\n",
              "    .colab-df-container {\n",
              "      display:flex;\n",
              "      flex-wrap:wrap;\n",
              "      gap: 12px;\n",
              "    }\n",
              "\n",
              "    .colab-df-convert {\n",
              "      background-color: #E8F0FE;\n",
              "      border: none;\n",
              "      border-radius: 50%;\n",
              "      cursor: pointer;\n",
              "      display: none;\n",
              "      fill: #1967D2;\n",
              "      height: 32px;\n",
              "      padding: 0 0 0 0;\n",
              "      width: 32px;\n",
              "    }\n",
              "\n",
              "    .colab-df-convert:hover {\n",
              "      background-color: #E2EBFA;\n",
              "      box-shadow: 0px 1px 2px rgba(60, 64, 67, 0.3), 0px 1px 3px 1px rgba(60, 64, 67, 0.15);\n",
              "      fill: #174EA6;\n",
              "    }\n",
              "\n",
              "    [theme=dark] .colab-df-convert {\n",
              "      background-color: #3B4455;\n",
              "      fill: #D2E3FC;\n",
              "    }\n",
              "\n",
              "    [theme=dark] .colab-df-convert:hover {\n",
              "      background-color: #434B5C;\n",
              "      box-shadow: 0px 1px 3px 1px rgba(0, 0, 0, 0.15);\n",
              "      filter: drop-shadow(0px 1px 2px rgba(0, 0, 0, 0.3));\n",
              "      fill: #FFFFFF;\n",
              "    }\n",
              "  </style>\n",
              "\n",
              "      <script>\n",
              "        const buttonEl =\n",
              "          document.querySelector('#df-31b05134-4b02-4a41-9528-07d9e81049e1 button.colab-df-convert');\n",
              "        buttonEl.style.display =\n",
              "          google.colab.kernel.accessAllowed ? 'block' : 'none';\n",
              "\n",
              "        async function convertToInteractive(key) {\n",
              "          const element = document.querySelector('#df-31b05134-4b02-4a41-9528-07d9e81049e1');\n",
              "          const dataTable =\n",
              "            await google.colab.kernel.invokeFunction('convertToInteractive',\n",
              "                                                     [key], {});\n",
              "          if (!dataTable) return;\n",
              "\n",
              "          const docLinkHtml = 'Like what you see? Visit the ' +\n",
              "            '<a target=\"_blank\" href=https://colab.research.google.com/notebooks/data_table.ipynb>data table notebook</a>'\n",
              "            + ' to learn more about interactive tables.';\n",
              "          element.innerHTML = '';\n",
              "          dataTable['output_type'] = 'display_data';\n",
              "          await google.colab.output.renderOutput(dataTable, element);\n",
              "          const docLink = document.createElement('div');\n",
              "          docLink.innerHTML = docLinkHtml;\n",
              "          element.appendChild(docLink);\n",
              "        }\n",
              "      </script>\n",
              "    </div>\n",
              "  </div>\n",
              "  "
            ]
          },
          "metadata": {},
          "execution_count": 2
        }
      ],
      "source": [
        "data = pd.read_csv('classified_data.csv', index_col = 0)\n",
        "data.head()"
      ]
    },
    {
      "cell_type": "markdown",
      "id": "a2377dd7",
      "metadata": {
        "id": "a2377dd7"
      },
      "source": [
        "### Step 1.c: Inspect the data\n",
        "- How big it the dataset?\n",
        "    - HINT: Use `len(.)`\n",
        "- How many classes are there?\n",
        "    - HINT: Use `.value_counts()` on the column containing the classes"
      ]
    },
    {
      "cell_type": "code",
      "execution_count": null,
      "id": "1f442240",
      "metadata": {
        "id": "1f442240",
        "colab": {
          "base_uri": "https://localhost:8080/"
        },
        "outputId": "913a1c5c-2c49-4218-f94d-2bb8bf939efa"
      },
      "outputs": [
        {
          "output_type": "execute_result",
          "data": {
            "text/plain": [
              "1000"
            ]
          },
          "metadata": {},
          "execution_count": 3
        }
      ],
      "source": [
        "len(data)"
      ]
    },
    {
      "cell_type": "code",
      "execution_count": null,
      "id": "3fae8450",
      "metadata": {
        "id": "3fae8450",
        "colab": {
          "base_uri": "https://localhost:8080/"
        },
        "outputId": "6c161f57-5f75-47cc-aa20-a489fde2d9c9"
      },
      "outputs": [
        {
          "output_type": "execute_result",
          "data": {
            "text/plain": [
              "1    500\n",
              "0    500\n",
              "Name: TARGET CLASS, dtype: int64"
            ]
          },
          "metadata": {},
          "execution_count": 4
        }
      ],
      "source": [
        "data[\"TARGET CLASS\"].value_counts()"
      ]
    },
    {
      "cell_type": "markdown",
      "id": "3bec949d",
      "metadata": {
        "id": "3bec949d"
      },
      "source": [
        "## Step 2: Prepare\n",
        "- Explore data\n",
        "- Visualize ideas\n",
        "- Cleaning data"
      ]
    },
    {
      "cell_type": "markdown",
      "id": "6a5d948d",
      "metadata": {
        "id": "6a5d948d"
      },
      "source": [
        "### Step 2.a: Check the data types\n",
        "- This step tells you if some numeric column is not represented numeric.\n",
        "- Get the data types by ```.info()```"
      ]
    },
    {
      "cell_type": "code",
      "execution_count": null,
      "id": "17b34c68",
      "metadata": {
        "id": "17b34c68",
        "colab": {
          "base_uri": "https://localhost:8080/"
        },
        "outputId": "e253e372-d567-4f4e-aa58-06ec5c67f1d0"
      },
      "outputs": [
        {
          "output_type": "stream",
          "name": "stdout",
          "text": [
            "<class 'pandas.core.frame.DataFrame'>\n",
            "Int64Index: 1000 entries, 0 to 999\n",
            "Data columns (total 11 columns):\n",
            " #   Column        Non-Null Count  Dtype  \n",
            "---  ------        --------------  -----  \n",
            " 0   WTT           1000 non-null   float64\n",
            " 1   PTI           1000 non-null   float64\n",
            " 2   EQW           1000 non-null   float64\n",
            " 3   SBI           1000 non-null   float64\n",
            " 4   LQE           1000 non-null   float64\n",
            " 5   QWG           1000 non-null   float64\n",
            " 6   FDJ           1000 non-null   float64\n",
            " 7   PJF           1000 non-null   float64\n",
            " 8   HQE           1000 non-null   float64\n",
            " 9   NXJ           1000 non-null   float64\n",
            " 10  TARGET CLASS  1000 non-null   int64  \n",
            "dtypes: float64(10), int64(1)\n",
            "memory usage: 93.8 KB\n"
          ]
        }
      ],
      "source": [
        "data.info()"
      ]
    },
    {
      "cell_type": "markdown",
      "id": "2867789a",
      "metadata": {
        "id": "2867789a"
      },
      "source": [
        "### Step 2.b: Check for null (missing) values\n",
        "- Data often is missing entries - there can be many reasons for this\n",
        "- We need to deal with that (will do later in course)\n",
        "- Use ```.isnull().any()```"
      ]
    },
    {
      "cell_type": "code",
      "execution_count": null,
      "id": "9e102adf",
      "metadata": {
        "id": "9e102adf",
        "colab": {
          "base_uri": "https://localhost:8080/"
        },
        "outputId": "fa4a7cd6-60da-4ae3-fccc-7f1487a3f3c2"
      },
      "outputs": [
        {
          "output_type": "execute_result",
          "data": {
            "text/plain": [
              "WTT             False\n",
              "PTI             False\n",
              "EQW             False\n",
              "SBI             False\n",
              "LQE             False\n",
              "QWG             False\n",
              "FDJ             False\n",
              "PJF             False\n",
              "HQE             False\n",
              "NXJ             False\n",
              "TARGET CLASS    False\n",
              "dtype: bool"
            ]
          },
          "metadata": {},
          "execution_count": 6
        }
      ],
      "source": [
        "data.isnull().any()"
      ]
    },
    {
      "cell_type": "markdown",
      "id": "8cc1cabe",
      "metadata": {
        "id": "8cc1cabe"
      },
      "source": [
        "## Step 3: Analyze\n",
        "- Feature selection\n",
        "- Model selection\n",
        "- Analyze data"
      ]
    },
    {
      "cell_type": "markdown",
      "id": "1b7b9137",
      "metadata": {
        "id": "1b7b9137"
      },
      "source": [
        "### Step 3.a: Dependent and independent features\n",
        "- Assign independent features (those predicting) to `X`\n",
        "- Assign classes (labels/dependent features) to `y`"
      ]
    },
    {
      "cell_type": "code",
      "execution_count": null,
      "id": "754988e8",
      "metadata": {
        "id": "754988e8"
      },
      "outputs": [],
      "source": [
        "X = data.drop('TARGET CLASS', axis = 1)\n",
        "y = data['TARGET CLASS']"
      ]
    },
    {
      "cell_type": "markdown",
      "id": "52a0824d",
      "metadata": {
        "id": "52a0824d"
      },
      "source": [
        "### Step 3.b: Divide into training and test set\n",
        "- Divide into training and test set\n",
        "    - HINT: `train_test_split`"
      ]
    },
    {
      "cell_type": "code",
      "execution_count": null,
      "id": "45b05c58",
      "metadata": {
        "id": "45b05c58"
      },
      "outputs": [],
      "source": [
        "X_train, X_test, y_train, y_test = train_test_split(X, y, test_size=0.2, random_state=42)"
      ]
    },
    {
      "cell_type": "markdown",
      "id": "71ea7016",
      "metadata": {
        "id": "71ea7016"
      },
      "source": [
        "### Step 3.c: Train, fit, score a SVC model\n",
        "- Create the model\n",
        "```Python\n",
        "svc = SVC()\n",
        "```\n",
        "- Fit the model\n",
        "```Python\n",
        "svc.fit(X_train, y_train)\n",
        "```\n",
        "- Predict with the model\n",
        "```Python\n",
        "y_pred = svc.predict(X_test)\n",
        "```\n",
        "- Test the accuracy\n",
        "```Python\n",
        "accuracy_score(y_test, y_pred)\n",
        "```"
      ]
    },
    {
      "cell_type": "code",
      "execution_count": null,
      "id": "620948f6",
      "metadata": {
        "id": "620948f6",
        "colab": {
          "base_uri": "https://localhost:8080/"
        },
        "outputId": "93615455-ca31-463f-fb4d-25c824cd2ccb"
      },
      "outputs": [
        {
          "output_type": "execute_result",
          "data": {
            "text/plain": [
              "0.955"
            ]
          },
          "metadata": {},
          "execution_count": 9
        }
      ],
      "source": [
        "svc = SVC()\n",
        "svc.fit(X_train, y_train)\n",
        "y_pred = svc.predict(X_test)\n",
        "accuracy_score(y_test, y_pred)"
      ]
    },
    {
      "cell_type": "markdown",
      "id": "68d28bc9",
      "metadata": {
        "id": "68d28bc9"
      },
      "source": [
        "### Step 3.d: Find most important features\n",
        "- To find the most important features use [`permutation_importance`](https://scikit-learn.org/stable/modules/generated/sklearn.inspection.permutation_importance.html)\n",
        "\n",
        "```Python\n",
        "perm_importance = permutation_importance(svc, X_test, y_test)\n",
        "```\n",
        "- The results will be found in `perm_importance.importances_mean`"
      ]
    },
    {
      "cell_type": "code",
      "execution_count": null,
      "id": "322da76b",
      "metadata": {
        "id": "322da76b",
        "colab": {
          "base_uri": "https://localhost:8080/"
        },
        "outputId": "13e3613e-5aae-48d6-91b8-b49562b6ec23"
      },
      "outputs": [
        {
          "output_type": "execute_result",
          "data": {
            "text/plain": [
              "array([0.044, 0.016, 0.091, 0.   , 0.008, 0.011, 0.008, 0.045, 0.088,\n",
              "       0.004])"
            ]
          },
          "metadata": {},
          "execution_count": 11
        }
      ],
      "source": [
        "perm_importance = permutation_importance(svc, X_test, y_test)\n",
        "perm_importance.importances_mean"
      ]
    },
    {
      "cell_type": "markdown",
      "id": "aeffd265",
      "metadata": {
        "id": "aeffd265"
      },
      "source": [
        "### Step 3.e: Visualize the results\n",
        "- To visualize the result we want the most important features sorted\n",
        "- This can be `perm_importance.importances_mean.argsort()`\n",
        "    - HINT: assign it to `sorted_idx`\n",
        "- Then to visualize it we will create a DataFrame\n",
        "```Python\n",
        "pd.DataFrame(perm_importance.importances_mean[sorted_idx], X_test.columns[sorted_idx], columns=['Value'])\n",
        "```\n",
        "- Then make a `barh` plot (use `figsize`)"
      ]
    },
    {
      "cell_type": "code",
      "execution_count": null,
      "id": "d7f05b52",
      "metadata": {
        "id": "d7f05b52",
        "colab": {
          "base_uri": "https://localhost:8080/",
          "height": 282
        },
        "outputId": "aac684ff-03fc-42a9-dbf8-526e2b3a5874"
      },
      "outputs": [
        {
          "output_type": "execute_result",
          "data": {
            "text/plain": [
              "<matplotlib.axes._subplots.AxesSubplot at 0x7fe6900939d0>"
            ]
          },
          "metadata": {},
          "execution_count": 18
        },
        {
          "output_type": "display_data",
          "data": {
            "text/plain": [
              "<Figure size 432x288 with 1 Axes>"
            ],
            "image/png": "[encoded data removed]"
          },
          "metadata": {
            "needs_background": "light"
          }
        }
      ],
      "source": [
        "sorted_idx = perm_importance.importances_mean.argsort()\n",
        "df = pd.DataFrame(perm_importance.importances_mean[sorted_idx], X_test.columns[sorted_idx], columns=['Value'])\n",
        "df.plot.barh()"
      ]
    },
    {
      "cell_type": "markdown",
      "id": "c28a9590",
      "metadata": {
        "id": "c28a9590"
      },
      "source": [
        "### Step 3.f: Train, fit, score a KNeighborsClassifier\n",
        "- Do the same as above for `KNeighborsClassifier`"
      ]
    },
    {
      "cell_type": "code",
      "execution_count": null,
      "id": "5d228e4a",
      "metadata": {
        "id": "5d228e4a",
        "colab": {
          "base_uri": "https://localhost:8080/"
        },
        "outputId": "338b848a-7501-44f1-bbc7-01c32aa23010"
      },
      "outputs": [
        {
          "output_type": "execute_result",
          "data": {
            "text/plain": [
              "0.955"
            ]
          },
          "metadata": {},
          "execution_count": 17
        }
      ],
      "source": [
        "kn = KNeighborsClassifier()\n",
        "kn.fit(X_train, y_train)\n",
        "y_pred = kn.predict(X_test)\n",
        "accuracy_score(y_test, y_pred)"
      ]
    },
    {
      "cell_type": "code",
      "execution_count": null,
      "id": "e3a5be23",
      "metadata": {
        "id": "e3a5be23",
        "colab": {
          "base_uri": "https://localhost:8080/"
        },
        "outputId": "bf27d468-a581-45f8-fc6c-a04ec2d52d74"
      },
      "outputs": [
        {
          "output_type": "execute_result",
          "data": {
            "text/plain": [
              "array([ 0.047,  0.01 ,  0.075,  0.   ,  0.006,  0.007,  0.003,  0.04 ,\n",
              "        0.103, -0.001])"
            ]
          },
          "metadata": {},
          "execution_count": 19
        }
      ],
      "source": [
        "perm_importance = permutation_importance(svc, X_test, y_test)\n",
        "perm_importance.importances_mean"
      ]
    },
    {
      "cell_type": "code",
      "execution_count": null,
      "id": "540417c9",
      "metadata": {
        "id": "540417c9",
        "colab": {
          "base_uri": "https://localhost:8080/",
          "height": 282
        },
        "outputId": "01d2ebd3-8317-4ef8-9b38-edda229b3322"
      },
      "outputs": [
        {
          "output_type": "execute_result",
          "data": {
            "text/plain": [
              "<matplotlib.axes._subplots.AxesSubplot at 0x7fe68fed4bb0>"
            ]
          },
          "metadata": {},
          "execution_count": 20
        },
        {
          "output_type": "display_data",
          "data": {
            "text/plain": [
              "<Figure size 432x288 with 1 Axes>"
            ],
            "image/png": "[encoded data removed]"
          },
          "metadata": {
            "needs_background": "light"
          }
        }
      ],
      "source": [
        "sorted_idx = perm_importance.importances_mean.argsort()\n",
        "df = pd.DataFrame(perm_importance.importances_mean[sorted_idx], X_test.columns[sorted_idx], columns=['Value'])\n",
        "df.plot.barh()"
      ]
    },
    {
      "cell_type": "markdown",
      "id": "d9cc2f58",
      "metadata": {
        "id": "d9cc2f58"
      },
      "source": [
        "### Step 3.g: Conclusion\n",
        "-  Are the models using the same features?"
      ]
    },
    {
      "cell_type": "code",
      "execution_count": null,
      "id": "725aff2f",
      "metadata": {
        "id": "725aff2f"
      },
      "outputs": [],
      "source": []
    },
    {
      "cell_type": "markdown",
      "id": "98a71ee2",
      "metadata": {
        "id": "98a71ee2"
      },
      "source": [
        "## Step 4: Report\n",
        "- Present findings\n",
        "- Visualize results\n",
        "- Credibility counts"
      ]
    },
    {
      "cell_type": "markdown",
      "id": "4e5ce49e",
      "metadata": {
        "id": "4e5ce49e"
      },
      "source": [
        "### Step 4.a: What are the findings?\n",
        "- Write down your findings"
      ]
    },
    {
      "cell_type": "code",
      "execution_count": null,
      "id": "96c48adb",
      "metadata": {
        "id": "96c48adb"
      },
      "outputs": [],
      "source": []
    },
    {
      "cell_type": "code",
      "execution_count": null,
      "id": "b763461a",
      "metadata": {
        "id": "b763461a"
      },
      "outputs": [],
      "source": []
    },
    {
      "cell_type": "markdown",
      "id": "76c4be12",
      "metadata": {
        "id": "76c4be12"
      },
      "source": [
        "### Step 4.b: How to present the findings?\n",
        "- We need to present the findings?"
      ]
    },
    {
      "cell_type": "code",
      "execution_count": null,
      "id": "b12fd749",
      "metadata": {
        "id": "b12fd749"
      },
      "outputs": [],
      "source": []
    },
    {
      "cell_type": "code",
      "execution_count": null,
      "id": "5aeeb236",
      "metadata": {
        "id": "5aeeb236"
      },
      "outputs": [],
      "source": []
    },
    {
      "cell_type": "markdown",
      "id": "65c865f1",
      "metadata": {
        "id": "65c865f1"
      },
      "source": [
        "## Step 5: Actions\n",
        "- Use insights\n",
        "- Measure impact\n",
        "- Main goal"
      ]
    },
    {
      "cell_type": "markdown",
      "id": "3a700946",
      "metadata": {
        "id": "3a700946"
      },
      "source": [
        "### Step 5.a: How to follow up?\n",
        "- This is potentially a long-term relationship with a company\n",
        "- How can we follow up and improve on the model after more data is available?"
      ]
    },
    {
      "cell_type": "code",
      "execution_count": null,
      "id": "2259f88c",
      "metadata": {
        "id": "2259f88c"
      },
      "outputs": [],
      "source": []
    },
    {
      "cell_type": "code",
      "execution_count": null,
      "id": "8baf15be",
      "metadata": {
        "id": "8baf15be"
      },
      "outputs": [],
      "source": []
    }
  ],
  "metadata": {
    "kernelspec": {
      "display_name": "Python 3 (ipykernel)",
      "language": "python",
      "name": "python3"
    },
    "language_info": {
      "codemirror_mode": {
        "name": "ipython",
        "version": 3
      },
      "file_extension": ".py",
      "mimetype": "text/x-python",
      "name": "python",
      "nbconvert_exporter": "python",
      "pygments_lexer": "ipython3",
      "version": "3.9.10"
    },
    "colab": {
      "provenance": [],
      "include_colab_link": true
    }
  },
  "nbformat": 4,
  "nbformat_minor": 5
}